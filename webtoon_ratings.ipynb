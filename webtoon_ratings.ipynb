{
 "cells": [
  {
   "cell_type": "code",
   "execution_count": 4,
   "metadata": {},
   "outputs": [],
   "source": [
    "import json\n",
    "import time\n",
    "from bs4 import BeautifulSoup as bs\n",
    "import requests"
   ]
  },
  {
   "cell_type": "code",
   "execution_count": 11,
   "metadata": {},
   "outputs": [],
   "source": [
    "def save_data(title, data):\n",
    "    with open(title, 'w', encoding='utf-8') as f:\n",
    "        json.dump(data, f, ensure_ascii=False, indent=2)\n",
    "        \n",
    "def load_data(title):\n",
    "    with open(title, encoding=\"utf-8\") as f:\n",
    "        return json.load(f)"
   ]
  },
  {
   "cell_type": "code",
   "execution_count": 12,
   "metadata": {},
   "outputs": [],
   "source": [
    "MAIN_URL='https://www.webtoons.com/en/genre'\n",
    "COOKIES = {\n",
    "            'locale':'en',\n",
    "            'needGDPR':'false',\n",
    "            'needCCPA':'false' ,\n",
    "            'needCOPPA':'false' ,\n",
    "        }\n",
    "def get_genres_html(url):\n",
    "    r=requests.get(url,cookies=COOKIES)\n",
    "    return r.content\n",
    "\n",
    "text=get_genres_html(MAIN_URL)"
   ]
  },
  {
   "cell_type": "code",
   "execution_count": 15,
   "metadata": {},
   "outputs": [
    {
     "name": "stdout",
     "output_type": "stream",
     "text": [
      "1514\n"
     ]
    },
    {
     "data": {
      "text/plain": [
       "772"
      ]
     },
     "execution_count": 15,
     "metadata": {},
     "output_type": "execute_result"
    }
   ],
   "source": [
    "soup=bs(text)\n",
    "div_wrap=soup.find('div',{'class':'card_wrap genre'})\n",
    "links_html=div_wrap.find_all('a',href=True)\n",
    "links=[x['href'] for x in links_html]\n",
    "print(len(links))\n",
    "links=list(dict.fromkeys(links)) #remove duplicates so we don't pollute the data\n",
    "len(links)"
   ]
  },
  {
   "cell_type": "code",
   "execution_count": 37,
   "metadata": {},
   "outputs": [
    {
     "name": "stdout",
     "output_type": "stream",
     "text": [
      "{'url': 'https://www.webtoons.com/en/tiptoon/drawing-on-heritage/list?title_no=4315', 'title': 'Drawing on Heritage', 'genre': 'Informative', 'views': '525,926', 'rating': '8.32'}\n"
     ]
    }
   ],
   "source": [
    "def get_data_from_webtoon(link):\n",
    "    r=requests.get(link,cookies=COOKIES)\n",
    "    soup=bs(r.content)\n",
    "    title=soup.find('h1',{'class':'subj'}).string\n",
    "    genre=soup.find('h2',{'class':'genre'}).string\n",
    "    ul=soup.find('ul',{'class':'grade_area'}).find_all('li')\n",
    "    views=ul[0].em.string\n",
    "    rating=ul[2].em.string\n",
    "    return {\n",
    "        'url':link,\n",
    "        'title':title,\n",
    "        'genre':genre,\n",
    "        'views':views,\n",
    "        'rating':rating\n",
    "    }\n",
    "    \n",
    "print(get_data_from_webtoon(links[-1]))"
   ]
  },
  {
   "cell_type": "code",
   "execution_count": 38,
   "metadata": {},
   "outputs": [
    {
     "name": "stdout",
     "output_type": "stream",
     "text": [
      "# Invalid URL '#': No scheme supplied. Perhaps you meant http://#?\n",
      "# Invalid URL '#': No scheme supplied. Perhaps you meant http://#?\n",
      "# Invalid URL '#': No scheme supplied. Perhaps you meant http://#?\n",
      "# Invalid URL '#': No scheme supplied. Perhaps you meant http://#?\n"
     ]
    }
   ],
   "source": [
    "data_list=[]\n",
    "for link in links:\n",
    "    try:\n",
    "        data=get_data_from_webtoon(link)\n",
    "        data_list.append(data)\n",
    "    except Exception as e:\n",
    "        print(link,e)\n",
    "        \n",
    "    time.sleep(0.4)"
   ]
  },
  {
   "cell_type": "code",
   "execution_count": 2,
   "metadata": {},
   "outputs": [
    {
     "ename": "NameError",
     "evalue": "name 'save_data' is not defined",
     "output_type": "error",
     "traceback": [
      "\u001b[1;31m---------------------------------------------------------------------------\u001b[0m",
      "\u001b[1;31mNameError\u001b[0m                                 Traceback (most recent call last)",
      "\u001b[1;32mg:\\github\\webtoon-ratings\\webtoon_ratings.ipynb Cell 1'\u001b[0m in \u001b[0;36m<cell line: 1>\u001b[1;34m()\u001b[0m\n\u001b[1;32m----> <a href='vscode-notebook-cell:/g%3A/github/webtoon-ratings/webtoon_ratings.ipynb#ch0000000?line=0'>1</a>\u001b[0m save_data(\u001b[39m'\u001b[39m\u001b[39mratings_soup.json\u001b[39m\u001b[39m'\u001b[39m,data_list)\n",
      "\u001b[1;31mNameError\u001b[0m: name 'save_data' is not defined"
     ]
    }
   ],
   "source": [
    "save_data('ratings_soup.json',data_list)"
   ]
  }
 ],
 "metadata": {
  "kernelspec": {
   "display_name": "Python 3.8.0 ('webtoon-scrapy': venv)",
   "language": "python",
   "name": "python3"
  },
  "language_info": {
   "codemirror_mode": {
    "name": "ipython",
    "version": 3
   },
   "file_extension": ".py",
   "mimetype": "text/x-python",
   "name": "python",
   "nbconvert_exporter": "python",
   "pygments_lexer": "ipython3",
   "version": "3.8.0"
  },
  "orig_nbformat": 4,
  "vscode": {
   "interpreter": {
    "hash": "a2093bb61d44e3fe7b46895ea3215afcd6dbb2e9e0d446be747c3f108c80d9b9"
   }
  }
 },
 "nbformat": 4,
 "nbformat_minor": 2
}
